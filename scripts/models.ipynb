{
 "cells": [
  {
   "cell_type": "code",
   "execution_count": 66,
   "id": "1b703d2e",
   "metadata": {},
   "outputs": [
    {
     "data": {
      "text/plain": [
       "True"
      ]
     },
     "execution_count": 66,
     "metadata": {},
     "output_type": "execute_result"
    }
   ],
   "source": [
    "from dotenv import load_dotenv\n",
    "from google import genai\n",
    "from groq import Groq\n",
    "from openai import OpenAI\n",
    "from pathlib import Path\n",
    "import anthropic\n",
    "import os\n",
    "\n",
    "load_dotenv()"
   ]
  },
  {
   "cell_type": "code",
   "execution_count": null,
   "id": "94ea619e",
   "metadata": {},
   "outputs": [],
   "source": [
    "# connect to providers\n",
    "client_anthropic = anthropic.Anthropic(api_key=os.environ.get('ANTHROPIC_KEY'))\n",
    "client_google = genai.Client(api_key=os.environ.get('GOOGLE_KEY'))\n",
    "client_groq = Groq(api_key=os.environ.get('GROQ_KEY'))\n",
    "client_openai = OpenAI(api_key=os.environ.get('OPENAI_KEY'))\n",
    "\n",
    "# get the lists of models\n",
    "models_anthropic = client_anthropic.models.list(limit=20)\n",
    "models_google = client_google.models.list()\n",
    "models_groq = client_groq.models.list()\n",
    "models_openai = client_openai.models.list()\n",
    "\n",
    "# extract model ids\n",
    "anthropic_model_id = [model.id for model in models_anthropic.data]\n",
    "google_model_id = [model.name for model in models_google]\n",
    "groq_model_id = [model.id for model in models_groq.data]\n",
    "openai_model_id = [model.id for model in models_openai.data]"
   ]
  },
  {
   "cell_type": "code",
   "execution_count": 68,
   "id": "721bdcee",
   "metadata": {},
   "outputs": [
    {
     "data": {
      "text/plain": [
       "18289"
      ]
     },
     "execution_count": 68,
     "metadata": {},
     "output_type": "execute_result"
    }
   ],
   "source": [
    "model_ids = {\n",
    "    'ANTHROPIC': anthropic_model_id,\n",
    "    'GOOGLE': google_model_id,\n",
    "    'GROQ': groq_model_id,\n",
    "    'OPENAI': openai_model_id,\n",
    "}\n",
    "\n",
    "def normalize_name(name: str, seen: set) -> str:\n",
    "    norm = name.replace('-', '_').replace('.', '_').replace('/', '_').upper()\n",
    "    if norm in seen:\n",
    "        raise ValueError(f'Duplicate name: {norm} from {name}')\n",
    "    seen.add(norm)\n",
    "    return norm\n",
    "\n",
    "provider_enum = [\n",
    "    'from enum import Enum, auto\\n\\n',\n",
    "    'class Provider(Enum):\\n'\n",
    "]\n",
    "\n",
    "for provider in sorted(model_ids.keys()):\n",
    "    provider_enum.append(f'    {provider} = auto()\\n')\n",
    "\n",
    "model_enum = ['\\nclass Model(Enum):\\n']\n",
    "model_to_provider = ['\\nmodel_to_provider = {\\n']\n",
    "\n",
    "seen = set()\n",
    "for provider, ids in model_ids.items():\n",
    "    for model in sorted(ids):\n",
    "        model_name = normalize_name(model, seen)\n",
    "        model_enum.append(f'    {model_name} = \\'{model}\\'\\n')\n",
    "        model_to_provider.append(f'    Model.{model_name}: Provider.{provider},\\n')\n",
    "\n",
    "model_to_provider.append('}\\n')\n",
    "\n",
    "output_path = Path('enums.py')\n",
    "output_path.write_text( ''.join(provider_enum + model_enum + model_to_provider) )"
   ]
  }
 ],
 "metadata": {
  "kernelspec": {
   "display_name": ".venv",
   "language": "python",
   "name": "python3"
  },
  "language_info": {
   "codemirror_mode": {
    "name": "ipython",
    "version": 3
   },
   "file_extension": ".py",
   "mimetype": "text/x-python",
   "name": "python",
   "nbconvert_exporter": "python",
   "pygments_lexer": "ipython3",
   "version": "3.10.16"
  }
 },
 "nbformat": 4,
 "nbformat_minor": 5
}
