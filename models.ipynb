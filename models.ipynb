{
 "cells": [
  {
   "cell_type": "code",
   "execution_count": 18,
   "id": "1b703d2e",
   "metadata": {},
   "outputs": [
    {
     "data": {
      "text/plain": [
       "True"
      ]
     },
     "execution_count": 18,
     "metadata": {},
     "output_type": "execute_result"
    }
   ],
   "source": [
    "import anthropic\n",
    "from openai import OpenAI\n",
    "import os\n",
    "from dotenv import load_dotenv\n",
    "from pathlib import Path\n",
    "\n",
    "load_dotenv()"
   ]
  },
  {
   "cell_type": "code",
   "execution_count": 19,
   "id": "06e22e96",
   "metadata": {},
   "outputs": [],
   "source": [
    "def is_chat_model_openai(models):\n",
    "    tags = ['o4-mini',\n",
    "              'o3-mini',\n",
    "              'o1-mini',\n",
    "              'o3', 'o1',\n",
    "              'o1-pro',\n",
    "              'gpt-4.1',\n",
    "              'gpt-4o',\n",
    "              'chatgpt-4o',\n",
    "              'o4-mini',\n",
    "              'gpt-4.1-nano',\n",
    "              'gpt-4o-mini',\n",
    "              'o1-mini',\n",
    "              'gpt-4.1-mini',\n",
    "              'o3-mini',\n",
    "              'gpt-4-turbo',\n",
    "              'gpt-4',\n",
    "              'gpt-3.5-turbo']\n",
    "    \n",
    "def is_chat_model_anthropic(models):\n",
    "    tags = ['claude-opus-4',\n",
    "            'claude-sonnet-4',\n",
    "            'claude-3-7-sonnet',\n",
    "            'claude-3-5-sonnet',\n",
    "            'claude-3-5-haiku',\n",
    "            'claude-3-opus'\n",
    "            ]"
   ]
  },
  {
   "cell_type": "code",
   "execution_count": 20,
   "id": "a88d6296",
   "metadata": {},
   "outputs": [],
   "source": [
    "client = OpenAI(api_key=os.environ.get('OPENAI_KEY'))\n",
    "models_openai = client.models.list()"
   ]
  },
  {
   "cell_type": "code",
   "execution_count": 21,
   "id": "a7549c79",
   "metadata": {},
   "outputs": [],
   "source": [
    "model_openai_id = [model.id for model in models_openai.data]"
   ]
  },
  {
   "cell_type": "code",
   "execution_count": 22,
   "id": "8e481650",
   "metadata": {},
   "outputs": [],
   "source": [
    "client = anthropic.Anthropic(api_key=os.environ.get('ANTHROPIC_KEY'))\n",
    "models_anthropic = client.models.list(limit=20)"
   ]
  },
  {
   "cell_type": "code",
   "execution_count": 23,
   "id": "63eba29d",
   "metadata": {},
   "outputs": [],
   "source": [
    "model_anthropic_id = [model.id for model in models_anthropic.data]"
   ]
  },
  {
   "cell_type": "code",
   "execution_count": 24,
   "id": "721bdcee",
   "metadata": {},
   "outputs": [
    {
     "data": {
      "text/plain": [
       "8161"
      ]
     },
     "execution_count": 24,
     "metadata": {},
     "output_type": "execute_result"
    }
   ],
   "source": [
    "model_ids = {\n",
    "    'OPENAI': model_openai_id,\n",
    "    'ANTHROPIC': model_anthropic_id,\n",
    "}\n",
    "\n",
    "def normalize_name(name: str) -> str:\n",
    "    return name.replace('-', '_').replace('.', '_').upper()\n",
    "\n",
    "provider_enum = [\n",
    "    'from enum import Enum, auto\\n\\n',\n",
    "    'class Provider(Enum):\\n'\n",
    "]\n",
    "\n",
    "for provider in sorted(model_ids.keys()):\n",
    "    provider_enum.append(f'    {provider} = auto()\\n')\n",
    "\n",
    "model_enum = ['\\nclass Model(Enum):\\n']\n",
    "model_to_provider = ['\\nmodel_to_provider = {\\n']\n",
    "\n",
    "for provider, ids in model_ids.items():\n",
    "    for model in ids:\n",
    "        model_name = normalize_name(model)\n",
    "        model_enum.append(f'    {model_name} = \\'{model}\\'\\n')\n",
    "        model_to_provider.append(f'    Model.{model_name}: Provider.{provider},\\n')\n",
    "\n",
    "model_to_provider.append('}\\n')\n",
    "\n",
    "output_path = Path('enums.py')\n",
    "output_path.write_text( ''.join(provider_enum + model_enum + model_to_provider) )"
   ]
  }
 ],
 "metadata": {
  "kernelspec": {
   "display_name": ".venv",
   "language": "python",
   "name": "python3"
  },
  "language_info": {
   "codemirror_mode": {
    "name": "ipython",
    "version": 3
   },
   "file_extension": ".py",
   "mimetype": "text/x-python",
   "name": "python",
   "nbconvert_exporter": "python",
   "pygments_lexer": "ipython3",
   "version": "3.10.16"
  }
 },
 "nbformat": 4,
 "nbformat_minor": 5
}
